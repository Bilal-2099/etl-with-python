{
 "cells": [
  {
   "cell_type": "code",
   "execution_count": 2,
   "id": "01c3ec48",
   "metadata": {},
   "outputs": [],
   "source": [
    "from io import StringIO # for extract data\n",
    "import requests # for extract data\n",
    "from bs4 import BeautifulSoup # for extract data\n",
    "import pandas as pd #transformation data\n",
    "import sqlite3 #load\n",
    "from datetime import datetime\n",
    "from icecream import ic"
   ]
  },
  {
   "cell_type": "code",
   "execution_count": 3,
   "id": "27b2fa11",
   "metadata": {},
   "outputs": [],
   "source": [
    "# Step 0\n",
    "def log_progress(massage):\n",
    "    with open('./code_log.txt', 'a') as f:\n",
    "        f.write(f'{datetime.now()}: {massage}.\\n')"
   ]
  },
  {
   "cell_type": "code",
   "execution_count": 4,
   "id": "177595c6",
   "metadata": {},
   "outputs": [],
   "source": [
    "# Step 1\n",
    "def extract(url,table_att):\n",
    "    soup = requests.get(url).text\n",
    "    web = BeautifulSoup(soup,'html.parser')\n",
    "    table = web.find('span',string=table_att).find_next('table')\n",
    "    df = pd.read_html(StringIO(str(table)))[0]\n",
    "    \n",
    "    log_progress('Data Extracted successfull from the Wikipedia')\n",
    "    \n",
    "    return df"
   ]
  },
  {
   "cell_type": "code",
   "execution_count": 5,
   "id": "36137059",
   "metadata": {},
   "outputs": [],
   "source": [
    "#step 2\n",
    "def transformation(df, csv_path):\n",
    "    exchange_rate = pd.read_csv(csv_path,index_col = 0).to_dict()['Rate']\n",
    "    \n",
    "    df['MC_GBP_Billion'] = round(df['Market cap (US$ billion)'] * exchange_rate['GBP'],2)\n",
    "    df['MC_EUR_Billion'] = round(df['Market cap (US$ billion)'] * exchange_rate['EUR'],2)\n",
    "    df['MC_INR_Billion'] = round(df['Market cap (US$ billion)'] * exchange_rate['INR'],2)\n",
    "    \n",
    "    print(df['MC_EUR_Billion'][4])\n",
    "    \n",
    "    log_progress('Data Treansformation done Now,Step 2 Completed')\n",
    "    \n",
    "    return df"
   ]
  },
  {
   "cell_type": "code",
   "execution_count": 6,
   "id": "70fb5c55",
   "metadata": {},
   "outputs": [],
   "source": [
    "#step 3 Load\n",
    "#CSV\n",
    "def load_to_csv(df,out_path):\n",
    "    df.to_csv(out_path)\n",
    "    \n",
    "    log_progress('Data Loaded into the CSV File')\n"
   ]
  },
  {
   "cell_type": "code",
   "execution_count": 7,
   "id": "c85772ac",
   "metadata": {},
   "outputs": [],
   "source": [
    "#Step 3\n",
    "#SQLite\n",
    "def load_to_db(df,sql_conn, tn):\n",
    "    df.to_sql(tn , sql_conn , if_exist = 'replace', index=False )\n",
    "    \n",
    "    log_progress(\"Data Loaded into the SQLite Database\")"
   ]
  },
  {
   "cell_type": "code",
   "execution_count": 9,
   "id": "980f52c6",
   "metadata": {},
   "outputs": [
    {
     "name": "stdout",
     "output_type": "stream",
     "text": [
      "   Rank                                Bank name  Market cap (US$ billion)\n",
      "0     1                           JPMorgan Chase                    432.92\n",
      "1     2                          Bank of America                    231.52\n",
      "2     3  Industrial and Commercial Bank of China                    194.56\n",
      "3     4               Agricultural Bank of China                    160.68\n",
      "4     5                                HDFC Bank                    157.91\n",
      "5     6                              Wells Fargo                    155.87\n",
      "6     7                        HSBC Holdings PLC                    148.90\n",
      "7     8                           Morgan Stanley                    140.83\n",
      "8     9                  China Construction Bank                    139.82\n",
      "9    10                            Bank of China                    136.81\n",
      "146.86\n",
      "   Rank                                Bank name  Market cap (US$ billion)  \\\n",
      "0     1                           JPMorgan Chase                    432.92   \n",
      "1     2                          Bank of America                    231.52   \n",
      "2     3  Industrial and Commercial Bank of China                    194.56   \n",
      "3     4               Agricultural Bank of China                    160.68   \n",
      "4     5                                HDFC Bank                    157.91   \n",
      "5     6                              Wells Fargo                    155.87   \n",
      "6     7                        HSBC Holdings PLC                    148.90   \n",
      "7     8                           Morgan Stanley                    140.83   \n",
      "8     9                  China Construction Bank                    139.82   \n",
      "9    10                            Bank of China                    136.81   \n",
      "\n",
      "   MC_GBP_Billion  MC_EUR_Billion  MC_INR_Billion  \n",
      "0          346.34          402.62        35910.71  \n",
      "1          185.22          215.31        19204.58  \n",
      "2          155.65          180.94        16138.75  \n",
      "3          128.54          149.43        13328.41  \n",
      "4          126.33          146.86        13098.63  \n",
      "5          124.70          144.96        12929.42  \n",
      "6          119.12          138.48        12351.26  \n",
      "7          112.66          130.97        11681.85  \n",
      "8          111.86          130.03        11598.07  \n",
      "9          109.45          127.23        11348.39  \n"
     ]
    },
    {
     "ename": "TypeError",
     "evalue": "NDFrame.to_sql() got an unexpected keyword argument 'if_exist'",
     "output_type": "error",
     "traceback": [
      "\u001b[1;31m---------------------------------------------------------------------------\u001b[0m",
      "\u001b[1;31mTypeError\u001b[0m                                 Traceback (most recent call last)",
      "Cell \u001b[1;32mIn[9], line 19\u001b[0m\n\u001b[0;32m     17\u001b[0m log_progress(\u001b[38;5;124m'\u001b[39m\u001b[38;5;124mDataFrame Has Been Uploaded Into The CSV File On Our Pc\u001b[39m\u001b[38;5;124m'\u001b[39m)\n\u001b[0;32m     18\u001b[0m \u001b[38;5;28;01mwith\u001b[39;00m sqlite3\u001b[38;5;241m.\u001b[39mconnect(database_name) \u001b[38;5;28;01mas\u001b[39;00m conn:\n\u001b[1;32m---> 19\u001b[0m     load_to_db(df, conn, table_name)\n\u001b[0;32m     20\u001b[0m log_progress(\u001b[38;5;124m'\u001b[39m\u001b[38;5;124mDataFrame has been uploaded into the SQLite Database Successfully\u001b[39m\u001b[38;5;124m'\u001b[39m)\n",
      "Cell \u001b[1;32mIn[6], line 4\u001b[0m, in \u001b[0;36mload_to_db\u001b[1;34m(df, sql_conn, tn)\u001b[0m\n\u001b[0;32m      3\u001b[0m \u001b[38;5;28;01mdef\u001b[39;00m \u001b[38;5;21mload_to_db\u001b[39m(df,sql_conn, tn):\n\u001b[1;32m----> 4\u001b[0m     df\u001b[38;5;241m.\u001b[39mto_sql(tn , sql_conn , if_exist \u001b[38;5;241m=\u001b[39m \u001b[38;5;124m'\u001b[39m\u001b[38;5;124mreplace\u001b[39m\u001b[38;5;124m'\u001b[39m, index\u001b[38;5;241m=\u001b[39m\u001b[38;5;28;01mFalse\u001b[39;00m )\n\u001b[0;32m      6\u001b[0m     log_progress(\u001b[38;5;124m\"\u001b[39m\u001b[38;5;124mData Loaded into the SQLite Database\u001b[39m\u001b[38;5;124m\"\u001b[39m)\n",
      "\u001b[1;31mTypeError\u001b[0m: NDFrame.to_sql() got an unexpected keyword argument 'if_exist'"
     ]
    }
   ],
   "source": [
    "if __name__ == '__main__':\n",
    "    url = 'https://web.archive.org/web/20230908091635/https://en.wikipedia.org/wiki/List_of_largest_banks'\n",
    "    output_csv_path = './Largest_banks_data.csv'\n",
    "    database_name = 'Banks.db'\n",
    "    table_name = 'Largest_banks'\n",
    "    #\n",
    "    log_progress('Preliminaries complete. Initiating ETL process')\n",
    "    \n",
    "    df=extract(url, 'By market capitalization')\n",
    "    log_progress('Extraction Completed')\n",
    "    print(df)\n",
    "    df = transformation(df, './Input/exchange_rate.csv')\n",
    "    log_progress('Data Transformed Successfully')\n",
    "    print(df)\n",
    "    \n",
    "    load_to_csv(df, output_csv_path)\n",
    "    log_progress('DataFrame Has Been Uploaded Into The CSV File On Our Pc')\n",
    "    with sqlite3.connect(database_name) as conn:\n",
    "        load_to_db(df, conn, table_name)\n",
    "    log_progress('DataFrame has been uploaded into the SQLite Database Successfully')\n",
    "        "
   ]
  }
 ],
 "metadata": {
  "kernelspec": {
   "display_name": "Python 3 (ipykernel)",
   "language": "python",
   "name": "python3"
  },
  "language_info": {
   "codemirror_mode": {
    "name": "ipython",
    "version": 3
   },
   "file_extension": ".py",
   "mimetype": "text/x-python",
   "name": "python",
   "nbconvert_exporter": "python",
   "pygments_lexer": "ipython3",
   "version": "3.11.5"
  }
 },
 "nbformat": 4,
 "nbformat_minor": 5
}
